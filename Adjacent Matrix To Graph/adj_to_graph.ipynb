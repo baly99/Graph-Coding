{
  "nbformat": 4,
  "nbformat_minor": 0,
  "metadata": {
    "colab": {
      "name": "adj_to_graph.ipynb",
      "provenance": [],
      "collapsed_sections": [],
      "authorship_tag": "ABX9TyM9iobMpc06sTdqFyK+suNy",
      "include_colab_link": true
    },
    "kernelspec": {
      "name": "python3",
      "display_name": "Python 3"
    },
    "language_info": {
      "name": "python"
    }
  },
  "cells": [
    {
      "cell_type": "markdown",
      "metadata": {
        "id": "view-in-github",
        "colab_type": "text"
      },
      "source": [
        "<a href=\"https://colab.research.google.com/github/baly99/Graph-Coding/blob/main/Adjacent%20Matrix%20To%20Graph/adj_to_graph.ipynb\" target=\"_parent\"><img src=\"https://colab.research.google.com/assets/colab-badge.svg\" alt=\"Open In Colab\"/></a>"
      ]
    },
    {
      "cell_type": "code",
      "execution_count": 2,
      "metadata": {
        "id": "_ILaDt2mSS6l",
        "colab": {
          "base_uri": "https://localhost:8080/"
        },
        "outputId": "55666b6a-572d-436f-c03f-9d5b0599545e"
      },
      "outputs": [
        {
          "output_type": "execute_result",
          "data": {
            "text/plain": [
              "{'i': ['j'],\n",
              " 'j': ['i', 'k'],\n",
              " 'k': ['j', 'm', 'l'],\n",
              " 'm': ['k'],\n",
              " 'l': ['k'],\n",
              " 'o': ['n'],\n",
              " 'n': ['o']}"
            ]
          },
          "metadata": {},
          "execution_count": 2
        }
      ],
      "source": [
        "edges = [\n",
        "    ['i','j'],\n",
        "    ['k','j'],\n",
        "    ['m','k'],\n",
        "    ['k','l'],\n",
        "    ['o','n'],\n",
        "]\n",
        "\n",
        "# convert adjacent matrix to graph \n",
        "def adj_to_graph(edges):\n",
        "    graph = {}\n",
        "    \n",
        "    for edge in edges:\n",
        "        [a,b] = edge\n",
        "        \n",
        "        if a not in graph:\n",
        "            graph[a]=[]\n",
        "        if b not in graph:\n",
        "            graph[b]=[]\n",
        "        \n",
        "        graph[a].append(b)\n",
        "        graph[b].append(a)\n",
        "    # print(graph)\n",
        "    return graph\n",
        "\n",
        "\n",
        "adj_to_graph(edges)"
      ]
    }
  ]
}