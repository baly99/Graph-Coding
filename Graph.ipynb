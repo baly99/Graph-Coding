{
  "nbformat": 4,
  "nbformat_minor": 0,
  "metadata": {
    "colab": {
      "name": "Copy of Graph.ipynb",
      "provenance": [],
      "collapsed_sections": [],
      "authorship_tag": "ABX9TyN9h/g9dWPPTDp/TR9OjH3A",
      "include_colab_link": true
    },
    "kernelspec": {
      "name": "python3",
      "display_name": "Python 3"
    },
    "language_info": {
      "name": "python"
    }
  },
  "cells": [
    {
      "cell_type": "markdown",
      "metadata": {
        "id": "view-in-github",
        "colab_type": "text"
      },
      "source": [
        "<a href=\"https://colab.research.google.com/github/baly99/Graph-Coding/blob/main/Graph.ipynb\" target=\"_parent\"><img src=\"https://colab.research.google.com/assets/colab-badge.svg\" alt=\"Open In Colab\"/></a>"
      ]
    },
    {
      "cell_type": "code",
      "execution_count": null,
      "metadata": {
        "id": "_ILaDt2mSS6l"
      },
      "outputs": [],
      "source": [
        "edges = [\n",
        "    ['i','j'],\n",
        "    ['k','j'],\n",
        "    ['m','k'],\n",
        "    ['k','l'],\n",
        "    ['o','n'],\n",
        "]\n",
        "\n",
        "# convert adjacent matrix to graph \n",
        "def adj_to_graph(edges):\n",
        "    graph = {}\n",
        "    \n",
        "    for edge in edges:\n",
        "        [a,b] = edge\n",
        "        \n",
        "        if a not in graph:\n",
        "            graph[a]=[]\n",
        "        if b not in graph:\n",
        "            graph[b]=[]\n",
        "        \n",
        "        graph[a].append(b)\n",
        "        graph[b].append(a)\n",
        "    print(graph)\n",
        "    return graph\n",
        "\n",
        "\n",
        "adj_to_graph(edges)"
      ]
    }
  ]
}